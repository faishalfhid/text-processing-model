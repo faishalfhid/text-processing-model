{
 "cells": [
  {
   "cell_type": "code",
   "execution_count": 1,
   "id": "833d56b9",
   "metadata": {},
   "outputs": [],
   "source": [
    "from os import path\n",
    "import pandas as pd\n",
    "import pickle\n",
    "from sklearn.metrics import classification_report, confusion_matrix, accuracy_score\n",
    "from sklearn.feature_extraction.text import TfidfVectorizer\n",
    "from sklearn.preprocessing import LabelEncoder\n",
    "import sys"
   ]
  },
  {
   "cell_type": "code",
   "execution_count": 2,
   "id": "8228c47c",
   "metadata": {},
   "outputs": [],
   "source": [
    "dataset_path = path.abspath('../') + \"/datasets\"\n",
    "model_path = path.abspath('../') + \"/models\"\n",
    "data = pd.read_csv(dataset_path + '/test.csv')"
   ]
  },
  {
   "cell_type": "code",
   "execution_count": 3,
   "id": "4723ff38",
   "metadata": {},
   "outputs": [],
   "source": [
    "nb_model = pickle.load(open(model_path + \"/naive_bayes.pkl\", \"rb\"))\n",
    "svm_model = pickle.load(open(model_path + \"/svm.pkl\", \"rb\"))\n",
    "le = pickle.load(open(model_path + \"/label_encoder.pkl\", \"rb\"))\n",
    "vectorizer = pickle.load(open(model_path + \"/vectorizer.pkl\", \"rb\"))"
   ]
  },
  {
   "cell_type": "code",
   "execution_count": 4,
   "id": "0b8d79b4",
   "metadata": {},
   "outputs": [],
   "source": [
    "data['Kategori'] = le.transform(data['Kategori'])"
   ]
  },
  {
   "cell_type": "code",
   "execution_count": 5,
   "id": "ab602484",
   "metadata": {},
   "outputs": [],
   "source": [
    "X_test = vectorizer.transform(data[\"Pesan\"])\n",
    "y_test = data[\"Kategori\"]"
   ]
  },
  {
   "cell_type": "code",
   "execution_count": 6,
   "id": "f829d0ca",
   "metadata": {},
   "outputs": [
    {
     "name": "stdout",
     "output_type": "stream",
     "text": [
      "Naive Bayes\n",
      "              precision    recall  f1-score   support\n",
      "\n",
      "         ham       0.98      0.98      0.98       254\n",
      "        spam       0.98      0.98      0.98       274\n",
      "\n",
      "    accuracy                           0.98       528\n",
      "   macro avg       0.98      0.98      0.98       528\n",
      "weighted avg       0.98      0.98      0.98       528\n",
      "\n",
      "[[249   5]\n",
      " [  5 269]]\n"
     ]
    }
   ],
   "source": [
    "print(\"Naive Bayes\")\n",
    "y_pred_nb = nb_model.predict(X_test)\n",
    "report = classification_report(y_test, y_pred_nb, target_names=le.classes_)\n",
    "confusion_mat = confusion_matrix(y_test, y_pred_nb)\n",
    "print(report)\n",
    "print(confusion_mat)"
   ]
  },
  {
   "cell_type": "code",
   "execution_count": 7,
   "id": "4302b44f",
   "metadata": {},
   "outputs": [
    {
     "name": "stdout",
     "output_type": "stream",
     "text": [
      "\n",
      "SVM\n",
      "              precision    recall  f1-score   support\n",
      "\n",
      "         ham       0.99      0.98      0.99       254\n",
      "        spam       0.98      0.99      0.99       274\n",
      "\n",
      "    accuracy                           0.99       528\n",
      "   macro avg       0.99      0.99      0.99       528\n",
      "weighted avg       0.99      0.99      0.99       528\n",
      "\n",
      "[[249   5]\n",
      " [  2 272]]\n"
     ]
    }
   ],
   "source": [
    "print(\"\\nSVM\")\n",
    "y_pred_svm = svm_model.predict(X_test)\n",
    "report = classification_report(y_test, y_pred_svm, target_names=le.classes_)\n",
    "confusion_mat = confusion_matrix(y_test, y_pred_svm)\n",
    "print(report)\n",
    "print(confusion_mat)"
   ]
  },
  {
   "cell_type": "code",
   "execution_count": 8,
   "id": "e7130e4e",
   "metadata": {},
   "outputs": [
    {
     "name": "stdout",
     "output_type": "stream",
     "text": [
      "Naive Bayes model accuracy: 0.9810606060606061\n",
      "SVM model accuracy: 0.9867424242424242\n"
     ]
    }
   ],
   "source": [
    "ACC_THRESHOLD = 0.95\n",
    "nb_acc = accuracy_score(y_test, y_pred_nb)\n",
    "svm_acc = accuracy_score(y_test, y_pred_svm)\n",
    "\n",
    "print(f\"Naive Bayes model accuracy: {nb_acc}\")\n",
    "print(f\"SVM model accuracy: {svm_acc}\")"
   ]
  },
  {
   "cell_type": "code",
   "execution_count": 9,
   "id": "2467dc4c",
   "metadata": {},
   "outputs": [],
   "source": [
    "if nb_acc < ACC_THRESHOLD or svm_acc < ACC_THRESHOLD:\n",
    "    print(f\"Model accuracy below threshold ({ACC_THRESHOLD}), failing pipeline.\")\n",
    "    sys.exit(1)  # Non-zero exit code fails the Jenkins stage"
   ]
  }
 ],
 "metadata": {
  "kernelspec": {
   "display_name": ".venv (3.13.0)",
   "language": "python",
   "name": "python3"
  },
  "language_info": {
   "codemirror_mode": {
    "name": "ipython",
    "version": 3
   },
   "file_extension": ".py",
   "mimetype": "text/x-python",
   "name": "python",
   "nbconvert_exporter": "python",
   "pygments_lexer": "ipython3",
   "version": "3.13.0"
  }
 },
 "nbformat": 4,
 "nbformat_minor": 5
}
