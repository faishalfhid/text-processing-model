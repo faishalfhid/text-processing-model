{
 "cells": [
  {
   "cell_type": "code",
   "execution_count": 13,
   "id": "3b90381f",
   "metadata": {},
   "outputs": [],
   "source": [
    "import pandas as pd\n",
    "import re\n",
    "from Sastrawi.StopWordRemover.StopWordRemoverFactory import StopWordRemoverFactory\n",
    "from sklearn.model_selection import train_test_split\n",
    "from os import path"
   ]
  },
  {
   "cell_type": "code",
   "execution_count": 19,
   "id": "ca3903a6",
   "metadata": {},
   "outputs": [],
   "source": [
    "dataset_path = path.abspath('../') + \"/datasets\"\n",
    "data = pd.read_csv(dataset_path + '/spam.csv')"
   ]
  },
  {
   "cell_type": "code",
   "execution_count": 15,
   "id": "21680428",
   "metadata": {},
   "outputs": [],
   "source": [
    "def preprocessing(text):\n",
    "    # case folding\n",
    "    text = text.lower()\n",
    "\n",
    "    # replace numbers with token\n",
    "    text = re.sub(r'\\d+', ' <NUM> ', text)\n",
    "\n",
    "    # remove punctuation (tapi jangan spasi)\n",
    "    text = re.sub(r'[^\\w\\s]', '', text)\n",
    "\n",
    "    # stopword removal (tapi jangan terlalu agresif)\n",
    "    factory = StopWordRemoverFactory()\n",
    "    stopwords = set(factory.get_stop_words())\n",
    "    words = text.split()\n",
    "    text = \" \".join([word for word in words if word not in stopwords])\n",
    "\n",
    "    return text"
   ]
  },
  {
   "cell_type": "code",
   "execution_count": 16,
   "id": "e763a9fd",
   "metadata": {},
   "outputs": [],
   "source": [
    "data['Pesan'] = data['Pesan'].astype(str).apply(preprocessing)"
   ]
  },
  {
   "cell_type": "code",
   "execution_count": 17,
   "id": "ae1fc0be",
   "metadata": {},
   "outputs": [],
   "source": [
    "X_train, X_test, y_train, y_test = train_test_split(data['Pesan'], data['Kategori'], test_size=0.2, random_state=42, stratify=data['Kategori'])\n",
    "\n",
    "train_df = pd.DataFrame({'Pesan': X_train, 'Kategori': y_train})\n",
    "test_df = pd.DataFrame({'Pesan': X_test, 'Kategori': y_test})\n",
    "\n",
    "train_df.to_csv(dataset_path + \"/train.csv\", index=False)\n",
    "test_df.to_csv(dataset_path + \"/test.csv\", index=False)"
   ]
  }
 ],
 "metadata": {
  "kernelspec": {
   "display_name": ".venv (3.13.0)",
   "language": "python",
   "name": "python3"
  },
  "language_info": {
   "codemirror_mode": {
    "name": "ipython",
    "version": 3
   },
   "file_extension": ".py",
   "mimetype": "text/x-python",
   "name": "python",
   "nbconvert_exporter": "python",
   "pygments_lexer": "ipython3",
   "version": "3.13.0"
  }
 },
 "nbformat": 4,
 "nbformat_minor": 5
}
